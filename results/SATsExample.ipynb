{
 "cells": [
  {
   "cell_type": "markdown",
   "metadata": {},
   "source": [
    "# SATs example"
   ]
  },
  {
   "cell_type": "markdown",
   "metadata": {},
   "source": [
    "In this notebook, code is provided for the SATs school example presented in the paper \"A Fisher Scoring approach for crossed multiple-factor Linear Mixed Models\". This analysis replicates that of [West et al (2014)](https://www.routledge.com/Linear-Mixed-Models-A-Practical-Guide-Using-Statistical-Software-Second/West-Welch-Galecki/p/book/9781466560994) and uses data notably analysed previously by [Hong and Raudenbush](https://journals.sagepub.com/doi/10.3102/1076998607307355). The dataset used in this example is from [the longitudinal evaluation of school change and performance (LESCP) dataset](https://www2.ed.gov/offices/OUS/PES/esed/lescp_highlights.html). This data is freely available online and can be found, for example, as one of the datasets included as an example in the HLM software package. "
   ]
  },
  {
   "cell_type": "markdown",
   "metadata": {},
   "source": [
    "## Python Imports"
   ]
  },
  {
   "cell_type": "code",
   "execution_count": null,
   "metadata": {
    "scrolled": true
   },
   "outputs": [],
   "source": [
    "# Package imports\n",
    "import numpy as np\n",
    "import scipy\n",
    "import os\n",
    "import sys\n",
    "import pandas as pd\n",
    "import time\n",
    "\n",
    "# Import modules from elsewhere in the repository.\n",
    "module_path = os.path.abspath(os.path.join('..'))\n",
    "if module_path not in sys.path:\n",
    "    sys.path.append(os.path.join(module_path,\"src\",\"SATExample\"))\n",
    "    sys.path.append(os.path.join(module_path,\"src\",\"lib\"))\n",
    "    \n",
    "from genTestDat import genTestData2D, prodMats2D\n",
    "from est2d import *\n",
    "from npMatrix2d import *"
   ]
  },
  {
   "cell_type": "markdown",
   "metadata": {},
   "source": [
    "## Load Dataset"
   ]
  },
  {
   "cell_type": "markdown",
   "metadata": {},
   "source": [
    "Load in the the 67th school from the LESCP dataset."
   ]
  },
  {
   "cell_type": "code",
   "execution_count": null,
   "metadata": {},
   "outputs": [],
   "source": [
    "# Read in the data for the school with ID 67\n",
    "data = pd.read_csv(os.path.join(module_path,\"data\",\"SATExample\",\"school67.csv\"))\n",
    "print(data)"
   ]
  },
  {
   "cell_type": "markdown",
   "metadata": {},
   "source": [
    "## Helper function"
   ]
  },
  {
   "cell_type": "markdown",
   "metadata": {},
   "source": [
    "The below function can be used to recode a factor so that its levels are represented by $\\{1,2,...\\}$."
   ]
  },
  {
   "cell_type": "code",
   "execution_count": null,
   "metadata": {},
   "outputs": [],
   "source": [
    "def recodeFactor(factor):\n",
    "\n",
    "    # New copy of factor vector\n",
    "    factor = np.array(factor)\n",
    "\n",
    "    # Work out unique levels of the factor\n",
    "    uniqueValues = np.unique(factor)\n",
    "    \n",
    "    # Loop through the levels replacing them with\n",
    "    # a 0:l coding where l is the number of levels\n",
    "    for i in np.arange(len(uniqueValues)):\n",
    "\n",
    "        factor[factor==uniqueValues[i]]=i\n",
    "\n",
    "    return(factor)"
   ]
  },
  {
   "cell_type": "markdown",
   "metadata": {},
   "source": [
    "## Preprocessing"
   ]
  },
  {
   "cell_type": "markdown",
   "metadata": {},
   "source": [
    "Construct the response vector, $Y$, fixed effects design matrix, $X$ and random effects design matrix $Z$."
   ]
  },
  {
   "cell_type": "code",
   "execution_count": null,
   "metadata": {},
   "outputs": [],
   "source": [
    "# Number of subjects in model\n",
    "ns = len(data)\n",
    "\n",
    "# Work out factors for model\n",
    "studfac = recodeFactor(np.array(data['studid'].values))\n",
    "tchrfac = recodeFactor(np.array(data['tchrid'].values))\n",
    "\n",
    "# Work out math and year for model\n",
    "math = np.array(data['math'].values).reshape(len(data),1)\n",
    "year = np.array(data['year'].values).reshape(len(data),1)\n",
    "\n",
    "# Construct X for model\n",
    "X = np.concatenate((np.ones((ns,1)),year),axis=1)\n",
    "Y = math\n",
    "\n",
    "# Work out Z for the first random factor; student\n",
    "Z_f1 = np.zeros((ns,len(np.unique(studfac))))\n",
    "Z_f1[np.arange(ns),studfac] = 1\n",
    "\n",
    "# Work out Z for the second random factor; teacher\n",
    "Z_f2 = np.zeros((ns,len(np.unique(tchrfac))))\n",
    "Z_f2[np.arange(ns),tchrfac] = 1\n",
    "\n",
    "# Construct Z for model\n",
    "Z = np.concatenate((Z_f1,Z_f2),axis=1)"
   ]
  },
  {
   "cell_type": "markdown",
   "metadata": {},
   "source": [
    "These variables must be set for parameter estimation."
   ]
  },
  {
   "cell_type": "code",
   "execution_count": null,
   "metadata": {},
   "outputs": [],
   "source": [
    "# Convergence tolerance\n",
    "tol = 1e-6\n",
    "\n",
    "# number of levels for each factor in the model\n",
    "nlevels = np.array([len(np.unique(studfac)),len(np.unique(tchrfac))])\n",
    "\n",
    "# number of random effects for each factor in the model\n",
    "nraneffs = np.array([1,1])"
   ]
  },
  {
   "cell_type": "markdown",
   "metadata": {},
   "source": [
    "## FS method"
   ]
  },
  {
   "cell_type": "markdown",
   "metadata": {},
   "source": [
    "The below code will calculate, from $X$, $Y$ and $Z$, the parameter estimates for the FS method. The calculation is timed and performed in $2$ stages. The first stage computes the product matrices $X'X, X'Y, X'Z, Y'Y, Y'Z$ and $Z'Z$ and the second stage performs parameter estimation."
   ]
  },
  {
   "cell_type": "code",
   "execution_count": null,
   "metadata": {},
   "outputs": [],
   "source": [
    "# Obtain the product matrices and start recording the computation time\n",
    "t1 = time.time()\n",
    "XtX, XtY, XtZ, YtX, YtY, YtZ, ZtX, ZtY, ZtZ = prodMats2D(Y,Z,X)\n",
    "\n",
    "# Run Fisher Scoring\n",
    "paramVector_FS,_,nit,llh = FS2D(XtX, XtY, ZtX, ZtY, ZtZ, XtZ, YtZ, YtY, YtX, nlevels, nraneffs, tol, ns, init_paramVector=None)\n",
    "t2 = time.time()"
   ]
  },
  {
   "cell_type": "markdown",
   "metadata": {},
   "source": [
    "Below are the time taken for, and number of iterations required by, parameter estimation using the FS method*. Also given is the maximized log-likelihood."
   ]
  },
  {
   "cell_type": "code",
   "execution_count": null,
   "metadata": {},
   "outputs": [],
   "source": [
    "print('Time taken:        ', t2-t1)\n",
    "print('Number iterations: ', nit)\n",
    "print('Log-likelihood:    ', llh-ns/2*np.log(2*np.pi))"
   ]
  },
  {
   "cell_type": "markdown",
   "metadata": {},
   "source": [
    "*This code has been modified for demonstration purposes and only performs parameter estimation once. When generating results for the paper \"A Fisher Scoring approach for crossed multiple-factor Linear Mixed Effects Models\", this code was run $50$ times with the average time taken across runs reported. This can be done by putting a for loop around the above two blocks of code.\n",
    "\n",
    "The below are the fixed effects estimates:"
   ]
  },
  {
   "cell_type": "code",
   "execution_count": null,
   "metadata": {},
   "outputs": [],
   "source": [
    "print('beta 0 (Intercept): ', paramVector_FS[0,0])\n",
    "print('beta 1 (Year):      ', paramVector_FS[1,0])"
   ]
  },
  {
   "cell_type": "markdown",
   "metadata": {},
   "source": [
    "The below are the variance components:"
   ]
  },
  {
   "cell_type": "code",
   "execution_count": null,
   "metadata": {},
   "outputs": [],
   "source": [
    "print('Sigma^2_A: ', paramVector_FS[3,0]*paramVector_FS[2,0])\n",
    "print('Sigma^2_C: ', paramVector_FS[4,0]*paramVector_FS[2,0])\n",
    "print('Sigma^2_E: ', paramVector_FS[2,0])"
   ]
  },
  {
   "cell_type": "markdown",
   "metadata": {},
   "source": [
    "## FFS method"
   ]
  },
  {
   "cell_type": "markdown",
   "metadata": {},
   "source": [
    "The below code will calculate, from $X$, $Y$ and $Z$, the parameter estimates for the FFS method. The calculation is timed and performed in $2$ stages. The first stage computes the product matrices $X'X, X'Y, X'Z, Y'Y, Y'Z$ and $Z'Z$ and the second stage performs parameter estimation."
   ]
  },
  {
   "cell_type": "code",
   "execution_count": null,
   "metadata": {},
   "outputs": [],
   "source": [
    "# Obtain the product matrices and start recording the computation time\n",
    "t1 = time.time()\n",
    "XtX, XtY, XtZ, YtX, YtY, YtZ, ZtX, ZtY, ZtZ = prodMats2D(Y,Z,X)\n",
    "\n",
    "# Run Fisher Scoring\n",
    "paramVector_FFS,_,nit,llh = fFS2D(XtX, XtY, ZtX, ZtY, ZtZ, XtZ, YtZ, YtY, YtX, nlevels, nraneffs, tol, ns, init_paramVector=None)\n",
    "t2 = time.time()"
   ]
  },
  {
   "cell_type": "markdown",
   "metadata": {},
   "source": [
    "Below are the time taken for, and number of iterations required by, parameter estimation using the fFS method*. Also given is the maximized log-likelihood."
   ]
  },
  {
   "cell_type": "code",
   "execution_count": null,
   "metadata": {},
   "outputs": [],
   "source": [
    "print('Time taken:        ', t2-t1)\n",
    "print('Number iterations: ', nit)\n",
    "print('Log-likelihood:    ', llh-ns/2*np.log(2*np.pi))"
   ]
  },
  {
   "cell_type": "markdown",
   "metadata": {},
   "source": [
    "*This code has been modified for demonstration purposes and only performs parameter estimation once. When generating results for the paper \"A Fisher Scoring approach for crossed multiple-factor Linear Mixed Effects Models\", this code was run $50$ times with the average time taken across runs reported. This can be done by putting a for loop around the above two blocks of code.\n",
    "\n",
    "The below are the fixed effects estimates:"
   ]
  },
  {
   "cell_type": "code",
   "execution_count": null,
   "metadata": {},
   "outputs": [],
   "source": [
    "print('beta 0 (Intercept): ', paramVector_FFS[0,0])\n",
    "print('beta 1 (Year):      ', paramVector_FFS[1,0])"
   ]
  },
  {
   "cell_type": "markdown",
   "metadata": {},
   "source": [
    "The below are the variance components:"
   ]
  },
  {
   "cell_type": "code",
   "execution_count": null,
   "metadata": {},
   "outputs": [],
   "source": [
    "print('Sigma^2_A: ', paramVector_FFS[3,0]*paramVector_FFS[2,0])\n",
    "print('Sigma^2_C: ', paramVector_FFS[4,0]*paramVector_FFS[2,0])\n",
    "print('Sigma^2_E: ', paramVector_FFS[2,0])"
   ]
  },
  {
   "cell_type": "markdown",
   "metadata": {},
   "source": [
    "## SFS method"
   ]
  },
  {
   "cell_type": "markdown",
   "metadata": {},
   "source": [
    "The below code will calculate, from $X$, $Y$ and $Z$, the parameter estimates for the SFS method. The calculation is timed and performed in $2$ stages. The first stage computes the product matrices $X'X, X'Y, X'Z, Y'Y, Y'Z$ and $Z'Z$ and the second stage performs parameter estimation."
   ]
  },
  {
   "cell_type": "code",
   "execution_count": null,
   "metadata": {},
   "outputs": [],
   "source": [
    "# Obtain the product matrices and start recording the computation time\n",
    "t1 = time.time()\n",
    "XtX, XtY, XtZ, YtX, YtY, YtZ, ZtX, ZtY, ZtZ = prodMats2D(Y,Z,X)\n",
    "\n",
    "# Run Fisher Scoring\n",
    "paramVector_SFS,_,nit,llh = SFS2D(XtX, XtY, ZtX, ZtY, ZtZ, XtZ, YtZ, YtY, YtX, nlevels, nraneffs, tol, ns, init_paramVector=None)\n",
    "t2 = time.time()"
   ]
  },
  {
   "cell_type": "markdown",
   "metadata": {},
   "source": [
    "Below are the time taken for, and number of iterations required by, parameter estimation using the SFS method*. Also given is the maximized log-likelihood."
   ]
  },
  {
   "cell_type": "code",
   "execution_count": null,
   "metadata": {},
   "outputs": [],
   "source": [
    "print('Time taken:        ', t2-t1)\n",
    "print('Number iterations: ', nit)\n",
    "print('Log-likelihood:    ', llh-ns/2*np.log(2*np.pi))"
   ]
  },
  {
   "cell_type": "markdown",
   "metadata": {},
   "source": [
    "*This code has been modified for demonstration purposes and only performs parameter estimation once. When generating results for the paper \"A Fisher Scoring approach for crossed multiple-factor Linear Mixed Effects Models\", this code was run $50$ times with the average time taken across runs reported. This can be done by putting a for loop around the above two blocks of code.\n",
    "\n",
    "The below are the fixed effects estimates:"
   ]
  },
  {
   "cell_type": "code",
   "execution_count": null,
   "metadata": {},
   "outputs": [],
   "source": [
    "print('beta 0 (Intercept): ', paramVector_SFS[0,0])\n",
    "print('beta 1 (Year):      ', paramVector_SFS[1,0])"
   ]
  },
  {
   "cell_type": "markdown",
   "metadata": {},
   "source": [
    "The below are the variance components:"
   ]
  },
  {
   "cell_type": "code",
   "execution_count": null,
   "metadata": {},
   "outputs": [],
   "source": [
    "print('Sigma^2_A: ', paramVector_SFS[3,0]*paramVector_SFS[2,0])\n",
    "print('Sigma^2_C: ', paramVector_SFS[4,0]*paramVector_SFS[2,0])\n",
    "print('Sigma^2_E: ', paramVector_SFS[2,0])"
   ]
  },
  {
   "cell_type": "markdown",
   "metadata": {},
   "source": [
    "## FSFS method"
   ]
  },
  {
   "cell_type": "markdown",
   "metadata": {},
   "source": [
    "The below code will calculate, from $X$, $Y$ and $Z$, the parameter estimates for the FSFS method. The calculation is timed and performed in $2$ stages. The first stage computes the product matrices $X'X, X'Y, X'Z, Y'Y, Y'Z$ and $Z'Z$ and the second stage performs parameter estimation."
   ]
  },
  {
   "cell_type": "code",
   "execution_count": null,
   "metadata": {},
   "outputs": [],
   "source": [
    "# Obtain the product matrices and start recording the computation time\n",
    "t1 = time.time()\n",
    "XtX, XtY, XtZ, YtX, YtY, YtZ, ZtX, ZtY, ZtZ = prodMats2D(Y,Z,X)\n",
    "\n",
    "# Run Fisher Scoring\n",
    "paramVector_FSFS,_,nit,llh = fSFS2D(XtX, XtY, ZtX, ZtY, ZtZ, XtZ, YtZ, YtY, YtX, nlevels, nraneffs, tol, ns, init_paramVector=None)\n",
    "t2 = time.time()"
   ]
  },
  {
   "cell_type": "markdown",
   "metadata": {},
   "source": [
    "Below are the time taken for, and number of iterations required by, parameter estimation using the FSFS method*. Also given is the maximized log-likelihood."
   ]
  },
  {
   "cell_type": "code",
   "execution_count": null,
   "metadata": {},
   "outputs": [],
   "source": [
    "print('Time taken:        ', t2-t1)\n",
    "print('Number iterations: ', nit)\n",
    "print('Log-likelihood:    ', llh-ns/2*np.log(2*np.pi))"
   ]
  },
  {
   "cell_type": "markdown",
   "metadata": {},
   "source": [
    "*This code has been modified for demonstration purposes and only performs parameter estimation once. When generating results for the paper \"A Fisher Scoring approach for crossed multiple-factor Linear Mixed Effects Models\", this code was run $50$ times with the average time taken across runs reported. This can be done by putting a for loop around the above two blocks of code.\n",
    "\n",
    "The below are the fixed effects estimates:"
   ]
  },
  {
   "cell_type": "code",
   "execution_count": null,
   "metadata": {},
   "outputs": [],
   "source": [
    "print('beta 0 (Intercept): ', paramVector_FSFS[0,0])\n",
    "print('beta 1 (Year):      ', paramVector_FSFS[1,0])"
   ]
  },
  {
   "cell_type": "markdown",
   "metadata": {},
   "source": [
    "The below are the variance components:"
   ]
  },
  {
   "cell_type": "code",
   "execution_count": null,
   "metadata": {},
   "outputs": [],
   "source": [
    "print('Sigma^2_A: ', paramVector_FSFS[3,0]*paramVector_FSFS[2,0])\n",
    "print('Sigma^2_C: ', paramVector_FSFS[4,0]*paramVector_FSFS[2,0])\n",
    "print('Sigma^2_E: ', paramVector_FSFS[2,0])"
   ]
  },
  {
   "cell_type": "markdown",
   "metadata": {},
   "source": [
    "## CSFS method"
   ]
  },
  {
   "cell_type": "markdown",
   "metadata": {},
   "source": [
    "The below code will calculate, from $X$, $Y$ and $Z$, the parameter estimates for the CSFS method. The calculation is timed and performed in $2$ stages. The first stage computes the product matrices $X'X, X'Y, X'Z, Y'Y, Y'Z$ and $Z'Z$ and the second stage performs parameter estimation."
   ]
  },
  {
   "cell_type": "code",
   "execution_count": null,
   "metadata": {},
   "outputs": [],
   "source": [
    "# Obtain the product matrices and start recording the computation time\n",
    "t1 = time.time()\n",
    "XtX, XtY, XtZ, YtX, YtY, YtZ, ZtX, ZtY, ZtZ = prodMats2D(Y,Z,X)\n",
    "\n",
    "# Run Fisher Scoring\n",
    "paramVector_CSFS,_,nit,llh = cSFS2D(XtX, XtY, ZtX, ZtY, ZtZ, XtZ, YtZ, YtY, YtX, nlevels, nraneffs, tol, ns, init_paramVector=None)\n",
    "t2 = time.time()"
   ]
  },
  {
   "cell_type": "markdown",
   "metadata": {},
   "source": [
    "Below are the time taken for, and number of iterations required by, parameter estimation using the FSFS method*. Also given is the maximized log-likelihood."
   ]
  },
  {
   "cell_type": "code",
   "execution_count": null,
   "metadata": {},
   "outputs": [],
   "source": [
    "print('Time taken:        ', t2-t1)\n",
    "print('Number iterations: ', nit)\n",
    "print('Log-likelihood:    ', llh-ns/2*np.log(2*np.pi))"
   ]
  },
  {
   "cell_type": "markdown",
   "metadata": {},
   "source": [
    "*This code has been modified for demonstration purposes and only performs parameter estimation once. When generating results for the paper \"A Fisher Scoring approach for crossed multiple-factor Linear Mixed Effects Models\", this code was run $50$ times with the average time taken across runs reported. This can be done by putting a for loop around the above two blocks of code.\n",
    "\n",
    "The below are the fixed effects estimates:"
   ]
  },
  {
   "cell_type": "code",
   "execution_count": null,
   "metadata": {},
   "outputs": [],
   "source": [
    "print('beta 0 (Intercept): ', paramVector_CSFS[0,0])\n",
    "print('beta 1 (Year):      ', paramVector_CSFS[1,0])"
   ]
  },
  {
   "cell_type": "markdown",
   "metadata": {},
   "source": [
    "The below are the variance components:"
   ]
  },
  {
   "cell_type": "code",
   "execution_count": null,
   "metadata": {},
   "outputs": [],
   "source": [
    "print('Sigma^2_A: ', paramVector_CSFS[3,0]*paramVector_CSFS[2,0])\n",
    "print('Sigma^2_C: ', paramVector_CSFS[4,0]*paramVector_CSFS[2,0])\n",
    "print('Sigma^2_E: ', paramVector_CSFS[2,0])"
   ]
  },
  {
   "cell_type": "markdown",
   "metadata": {},
   "source": [
    "## *lmer* method"
   ]
  },
  {
   "cell_type": "markdown",
   "metadata": {},
   "source": [
    "As *lmer* is written in R, the source code used to run this simulation using *lmer* cannot be found in this notebook. Instead, the source code to run this model in *lmer* can be found in the file \"src/SATExample/SATsExample.R\"."
   ]
  }
 ],
 "metadata": {
  "kernelspec": {
   "display_name": "Python 3",
   "language": "python",
   "name": "python3"
  },
  "language_info": {
   "codemirror_mode": {
    "name": "ipython",
    "version": 3
   },
   "file_extension": ".py",
   "mimetype": "text/x-python",
   "name": "python",
   "nbconvert_exporter": "python",
   "pygments_lexer": "ipython3",
   "version": "3.6.9"
  }
 },
 "nbformat": 4,
 "nbformat_minor": 2
}
