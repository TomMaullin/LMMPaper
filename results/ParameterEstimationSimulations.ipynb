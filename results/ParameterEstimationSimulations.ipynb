{
 "cells": [
  {
   "cell_type": "markdown",
   "metadata": {},
   "source": [
    "# Parameter Estimation Simulations"
   ]
  },
  {
   "cell_type": "markdown",
   "metadata": {},
   "source": [
    "This notebook provides an overview of how the parameter estimation simulations presented in the paper \"A Fisher Scoring approach for crossed multiple-factor Linear Mixed Effects Models\" were performed using the code available in this repository. \n",
    "\n",
    "As the simulations in the paper were run on a SGE cluster set-up (and the scripts used were specific to the cluster and software employed), we provide details on how to run individual simulations and how to combine the results from simulations which have already been run but do not provide scripts for submitting jobs to a cluster. This notebook should make it clear how the simulations can be run on a cluster but, to do so, you will need to write your own cluster-specific scripts for the actual job submission. The file `src/Simulations/LMMPaperSim.sh` provides some initial bash scripts which may help you to do so."
   ]
  },
  {
   "cell_type": "markdown",
   "metadata": {},
   "source": [
    "## Python Imports"
   ]
  },
  {
   "cell_type": "code",
   "execution_count": 2,
   "metadata": {},
   "outputs": [],
   "source": [
    "# Package imports\n",
    "import numpy as np\n",
    "import scipy\n",
    "import os\n",
    "import sys\n",
    "import pandas as pd\n",
    "import time\n",
    "\n",
    "# Import modules from elsewhere in the repository.\n",
    "module_path = os.path.abspath(os.path.join('..'))\n",
    "if module_path not in sys.path:\n",
    "    sys.path.append(os.path.join(module_path,\"src\",\"Simulations\"))\n",
    "    sys.path.append(os.path.join(module_path,\"src\",\"lib\"))\n",
    "    \n",
    "from genTestDat import genTestData2D, prodMats2D\n",
    "from est2d import *\n",
    "from npMatrix2d import *"
   ]
  },
  {
   "cell_type": "markdown",
   "metadata": {},
   "source": [
    "## Running a simulation"
   ]
  },
  {
   "cell_type": "markdown",
   "metadata": {},
   "source": [
    "The function `runSim`, which can be found in `LMMPaperSim.py`, can be used to run a single simulation instance. It takes the following inputs:\n",
    "\n",
    "\n",
    "\n",
    "An example of how this function can be used is given below:"
   ]
  },
  {
   "cell_type": "code",
   "execution_count": null,
   "metadata": {},
   "outputs": [],
   "source": []
  },
  {
   "cell_type": "markdown",
   "metadata": {},
   "source": [
    "Many simulations can be run in serial. The function `sim2D` can be used to do this. It takes the following inputs:\n",
    "\n",
    "\n",
    "\n",
    "An example of how this function can be used is given below:"
   ]
  },
  {
   "cell_type": "code",
   "execution_count": null,
   "metadata": {},
   "outputs": [],
   "source": []
  },
  {
   "cell_type": "code",
   "execution_count": null,
   "metadata": {},
   "outputs": [],
   "source": []
  }
 ],
 "metadata": {
  "kernelspec": {
   "display_name": "Python 3",
   "language": "python",
   "name": "python3"
  },
  "language_info": {
   "codemirror_mode": {
    "name": "ipython",
    "version": 3
   },
   "file_extension": ".py",
   "mimetype": "text/x-python",
   "name": "python",
   "nbconvert_exporter": "python",
   "pygments_lexer": "ipython3",
   "version": "3.6.9"
  }
 },
 "nbformat": 4,
 "nbformat_minor": 2
}
